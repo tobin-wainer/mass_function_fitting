{
 "cells": [
  {
   "cell_type": "code",
   "execution_count": 2,
   "metadata": {},
   "outputs": [],
   "source": [
    "import numpy as np\n",
    "from astropy.table import Table, join, MaskedColumn, vstack\n",
    "import matplotlib.pyplot as plt\n",
    "import matplotlib.colors as colors\n",
    "import scipy\n",
    "from astropy.time import Time\n",
    "import pandas as pd\n",
    "import re\n",
    "import seaborn as sns\n",
    "import datetime\n",
    "from datetime import datetime\n",
    "from datetime import timedelta\n",
    "from math import e\n",
    "from math import pi\n",
    "from astropy.table import Column\n",
    "from math import sqrt\n",
    "import numpy as np\n",
    "import emcee\n",
    "import matplotlib.pyplot as plt\n",
    "from astropy.io import fits\n",
    "from astropy.table import Table\n",
    "import math\n",
    "import corner\n",
    "from numpy import exp\n",
    "from scipy import integrate\n",
    "from scipy.integrate import quad\n",
    "import pdb\n",
    "import powerlaw\n",
    "import random\n",
    "from scipy import stats\n",
    "from scipy.optimize import curve_fit\n",
    "import scipy.optimize as opt\n",
    "from multiprocessing import Pool"
   ]
  },
  {
   "cell_type": "markdown",
   "metadata": {},
   "source": [
    "Getting the catalog, and combining it with the subimg_data cat to get the NMS per cluster."
   ]
  },
  {
   "cell_type": "code",
   "execution_count": 3,
   "metadata": {},
   "outputs": [],
   "source": [
    "Cat=Table.read('M33_catalog_with_Quick_BestFit_CMD_Estimates.fits')\n",
    "\n",
    "subimg_data=Table.read('phatm33_subimg-meta.fits')\n",
    "subimg_data.rename_column('SUBIMG', 'IMG')\n",
    "subimg_data.rename_column('FILENAME', 'SUBIMG_old')\n",
    "subimg_data.rename_column('RA', 'IMG_RA')\n",
    "subimg_data.rename_column('DEC', 'IMG_DEC')\n",
    "\n",
    "si_lst=list(subimg_data['SUBIMG_old'])\n",
    "for i in range(len(si_lst)):\n",
    "    si_lst[i]= si_lst[i].rstrip()\n",
    "    \n",
    "new_col=Column(si_lst, name='SUBIMG')\n",
    "subimg_data.remove_column('SUBIMG_old')\n",
    "subimg_data.add_column(new_col, index=4)\n",
    "\n",
    "Cat_w_nms=join(Cat, subimg_data)\n",
    "\n",
    "Cat_w_Est=Cat_w_nms[np.where(Cat_w_nms['Quick_BestFit_LogAge'] > 0)]\n"
   ]
  },
  {
   "cell_type": "code",
   "execution_count": 4,
   "metadata": {},
   "outputs": [],
   "source": [
    "#Trim to exclude clusters younger than 7.0 and older than 8.5\n",
    "\n",
    "Trimmed=Cat_w_Est[np.where((Cat_w_Est['Quick_BestFit_LogAge'] > 7.0 ) & (Cat_w_Est['Quick_BestFit_LogAge'] < 8.5))]"
   ]
  },
  {
   "cell_type": "code",
   "execution_count": 5,
   "metadata": {},
   "outputs": [],
   "source": [
    "#Only using the sample in my age range\n",
    "\n",
    "masses=np.array(Trimmed['Quick_BestFit_LogMass'])\n",
    "ages=np.array(Trimmed['Quick_BestFit_LogAge'])\n",
    "nmses=np.array(np.log10(Trimmed['NMS']))"
   ]
  },
  {
   "cell_type": "code",
   "execution_count": 6,
   "metadata": {},
   "outputs": [],
   "source": [
    "#Setting the Mlim to a fixed value which is the median 50% compleness for the full sample"
   ]
  },
  {
   "cell_type": "code",
   "execution_count": 8,
   "metadata": {},
   "outputs": [
    {
     "data": {
      "text/plain": [
       "array([-1.38700126,  3.89800772])"
      ]
     },
     "execution_count": 8,
     "metadata": {},
     "output_type": "execute_result"
    }
   ],
   "source": [
    "med_mlim=2.9677\n",
    "med_mlim\n",
    "\n",
    "fixed_mlim_masses=masses[np.where(masses>med_mlim)]\n",
    "use_med_mlim=10**med_mlim\n",
    "\n",
    "def pobs(M, mlim):\n",
    "    k=6.3665\n",
    "    \n",
    "    y=(1.+ exp(-k*(M-mlim)))**(-1)\n",
    "    \n",
    "    return y\n",
    "\n",
    "def lnobs_like(M, mlim):\n",
    "    k=6.3665\n",
    "    \n",
    "    return -np.log(1.+ exp(-k*(M-mlim)))\n",
    "        \n",
    "def Shecter_Z(M, mlim, alpha, M_c):\n",
    "    x = M/M_c\n",
    "    k=6.3665\n",
    "    pobs= 1./(1.+ exp((-k)*(np.log10(M)-mlim)))\n",
    "    \n",
    "    return (x**alpha) * exp(-x) * pobs\n",
    "        \n",
    "    \n",
    "def lnlike(theta, M, mlim):\n",
    "    alpha, M_c = theta\n",
    "    lin_M_c= 10.**M_c\n",
    "    \n",
    "    lin_M= 10**M\n",
    "    x= lin_M/lin_M_c\n",
    "    \n",
    "    \n",
    "    ln_pobs=lnobs_like(M, np.log10(mlim))\n",
    "        \n",
    "    norm, err = quad(Shecter_Z, mlim, 1.e7, args=(np.log10(mlim), alpha, lin_M_c))\n",
    "    \n",
    "    \n",
    "    lnlike = np.sum((-x) + alpha*np.log(x) + ln_pobs - np.log(norm))    \n",
    "    return lnlike\n",
    "    \n",
    "def lnprior(theta):\n",
    "    alpha, M_c = theta\n",
    "    if -3 <= alpha <= -1 and 3 <= M_c <= 8:\n",
    "        return 0.0\n",
    "    return -np.inf\n",
    "\n",
    "def lnprob(theta, M, mlim):\n",
    "    lp = lnprior(theta)\n",
    "    if not np.isfinite(lp):\n",
    "        return -np.inf\n",
    "    return lp + lnlike(theta, M, mlim)\n",
    "\n",
    "nll = lambda *args: -lnprob(*args)\n",
    "starting_point=np.array([-2., 4.])\n",
    "\n",
    "fixed_mlim_result=opt.minimize(nll, x0=starting_point, args=(fixed_mlim_masses, use_med_mlim))\n",
    "fixed_mlim_result['x']"
   ]
  }
 ],
 "metadata": {
  "kernelspec": {
   "display_name": "Python 3",
   "language": "python",
   "name": "python3"
  },
  "language_info": {
   "codemirror_mode": {
    "name": "ipython",
    "version": 3
   },
   "file_extension": ".py",
   "mimetype": "text/x-python",
   "name": "python",
   "nbconvert_exporter": "python",
   "pygments_lexer": "ipython3",
   "version": "3.7.6"
  }
 },
 "nbformat": 4,
 "nbformat_minor": 4
}
