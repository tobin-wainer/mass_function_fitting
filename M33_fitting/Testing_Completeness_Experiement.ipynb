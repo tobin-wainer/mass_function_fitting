{
 "cells": [
  {
   "cell_type": "code",
   "execution_count": 1,
   "metadata": {},
   "outputs": [],
   "source": [
    "import numpy as np\n",
    "from astropy.table import Table, join, MaskedColumn, vstack\n",
    "import matplotlib.pyplot as plt\n",
    "import matplotlib.colors as colors\n",
    "import scipy\n",
    "from astropy.time import Time\n",
    "import pandas as pd\n",
    "import re\n",
    "import seaborn as sns\n",
    "import datetime\n",
    "from datetime import datetime\n",
    "from datetime import timedelta\n",
    "from math import e\n",
    "from math import pi\n",
    "from astropy.table import Column\n",
    "from math import sqrt\n",
    "import numpy as np\n",
    "import emcee\n",
    "import matplotlib.pyplot as plt\n",
    "from astropy.io import fits\n",
    "from astropy.table import Table\n",
    "import math\n",
    "import corner\n",
    "from numpy import exp\n",
    "from scipy import integrate\n",
    "from scipy.integrate import quad\n",
    "import pdb\n",
    "import powerlaw\n",
    "import random\n",
    "from scipy import stats\n",
    "from scipy.optimize import curve_fit\n",
    "import scipy.optimize as opt\n",
    "from multiprocessing import Pool"
   ]
  },
  {
   "cell_type": "code",
   "execution_count": 2,
   "metadata": {},
   "outputs": [],
   "source": [
    "Cat=Table.read('M33_catalog_with_Quick_BestFit_CMD_Estimates.fits')\n",
    "\n",
    "subimg_data=Table.read('phatm33_subimg-meta.fits')\n",
    "subimg_data.rename_column('SUBIMG', 'IMG')\n",
    "subimg_data.rename_column('FILENAME', 'SUBIMG_old')\n",
    "subimg_data.rename_column('RA', 'IMG_RA')\n",
    "subimg_data.rename_column('DEC', 'IMG_DEC')\n",
    "\n",
    "si_lst=list(subimg_data['SUBIMG_old'])\n",
    "for i in range(len(si_lst)):\n",
    "    si_lst[i]= si_lst[i].rstrip()\n",
    "    \n",
    "new_col=Column(si_lst, name='SUBIMG')\n",
    "subimg_data.remove_column('SUBIMG_old')\n",
    "subimg_data.add_column(new_col, index=4)\n",
    "\n",
    "Cat_w_nms=join(Cat, subimg_data)\n",
    "\n",
    "Cat_w_Est=Cat_w_nms[np.where(Cat_w_nms['Quick_BestFit_LogAge'] > 0)]\n",
    "\n",
    "\n",
    "full_masses=np.array(Cat_w_Est['Quick_BestFit_LogMass'])\n",
    "full_ages=np.array(Cat_w_Est['Quick_BestFit_LogAge'])\n",
    "full_nmses=np.array(np.log10(Cat_w_Est['NMS']))"
   ]
  },
  {
   "cell_type": "markdown",
   "metadata": {},
   "source": [
    "Draw a Scechter Function with a -2 powerlaw"
   ]
  },
  {
   "cell_type": "code",
   "execution_count": 3,
   "metadata": {},
   "outputs": [],
   "source": [
    "def Cliff_pl_draw_schechter(ndraw,alpha,llim,ulim,M_c=1.e4,rseed=None,returnfull=False):\n",
    "    alphapp=alpha+1.\n",
    "    np.random.seed(rseed)\n",
    "    rand=np.random.rand(ndraw)\n",
    "    pdf=(rand*ulim**alphapp + (1.-rand)*llim**alphapp)**(1./alphapp)\n",
    "    rand=np.random.rand(ndraw)\n",
    "    select = rand < np.exp(-pdf/M_c)\n",
    "    if returnfull:\n",
    "        return pdf[select], pdf\n",
    "    else:\n",
    "        return pdf[select]\n",
    "    \n",
    "drawn_masses=np.log10(Cliff_pl_draw_schechter(4000, -2, 300, 10**7, M_c=10**4.25 ))\n",
    "\n",
    "#Draw_ages and NMS with replacement from our distributions\n",
    "\n",
    "drawn_ages=np.random.choice(full_ages, size=len(drawn_masses))\n",
    "drawn_nms=np.random.choice(full_nmses, size=len(drawn_masses))"
   ]
  },
  {
   "cell_type": "markdown",
   "metadata": {},
   "source": [
    "Apply a completeness to determine detection\n",
    "\n",
    "1. Asses the completeness for a given cluster, given its mass, age, and NMS\n",
    "2. Draw a random number between 0:1 and if the number is less that the completeness value, the cluster was \"Detected\"\n"
   ]
  },
  {
   "cell_type": "code",
   "execution_count": 6,
   "metadata": {},
   "outputs": [],
   "source": [
    "#Defining the Compleness funcitons\n",
    "\n",
    "def pobs(M, mlim):\n",
    "    k=6.3665\n",
    "    \n",
    "    y=(1.+ exp(-k*(M-mlim)))**(-1)\n",
    "    \n",
    "    return y\n",
    "\n",
    "def c(NMS):\n",
    "    m=0.7117385589429568\n",
    "    b=0.6066972150830925\n",
    "    \n",
    "    y= (m*NMS)+b\n",
    "    \n",
    "    if NMS < 2.53:\n",
    "        return 2.413\n",
    "    if 2.53 <= NMS <= 3.49: \n",
    "        return y\n",
    "    if NMS > 3.49:\n",
    "        return 3.054\n",
    "\n",
    "def M_lim(Tau, NMS):\n",
    "    \n",
    "    #fit from completeness limit \n",
    "    a=0.06005753215407492\n",
    "    b=1.0190688706002926\n",
    "    \n",
    "    c_=c(NMS)\n",
    "    \n",
    "    Tau_min=6.71\n",
    "\n",
    "    y= a*np.exp(b*(Tau-Tau_min))+c_\n",
    "    return y"
   ]
  },
  {
   "cell_type": "code",
   "execution_count": 7,
   "metadata": {},
   "outputs": [],
   "source": [
    "drawn_mlims=np.zeros((len(drawn_masses)))\n",
    "for i in range(len(drawn_masses)):\n",
    "    drawn_mlims[i]=M_lim(drawn_ages[i], drawn_nms[i])\n",
    "\n",
    "\n",
    "#determin \"detected\" clusters\n",
    "detected_masses=[]\n",
    "detected_mlims=[]\n",
    "for i in range(len(drawn_masses)):\n",
    "    rand= np.random.rand()\n",
    "    if rand < pobs(drawn_masses[i], drawn_mlims[i]):\n",
    "        detected_masses.append(drawn_masses[i])\n",
    "        detected_mlims.append(drawn_mlims[i])\n",
    "\n",
    "detected_masses=np.array(detected_masses)\n",
    "detected_mlims=np.array(detected_mlims)\n"
   ]
  },
  {
   "cell_type": "code",
   "execution_count": 8,
   "metadata": {},
   "outputs": [],
   "source": [
    "# only feed in detected clusters, and only take above the 50% compleness and re-run\n",
    "\n",
    "using_dm=detected_masses[np.where(detected_masses > detected_mlims)]\n",
    "using_mlims=10**detected_mlims[np.where(detected_masses > detected_mlims)]"
   ]
  },
  {
   "cell_type": "code",
   "execution_count": 9,
   "metadata": {},
   "outputs": [],
   "source": [
    "#Definging necesary funcitons \n",
    "\n",
    "def lnobs_like(M, mlim):\n",
    "    k=6.3665\n",
    "    \n",
    "    return -np.log(1.+ exp(-k*(M-mlim)))\n",
    "        \n",
    "def Shecter_Z(M, mlim, alpha, M_c):\n",
    "    x = M/M_c\n",
    "    k=6.3665\n",
    "    pobs= 1./(1.+ exp((-k)*(np.log10(M)-mlim)))\n",
    "    \n",
    "    return (x**alpha) * exp(-x) * pobs\n",
    "        \n",
    "    \n",
    "def lnlike(theta, M, mlim):\n",
    "    alpha, M_c = theta\n",
    "    lin_M_c= 10.**M_c\n",
    "    \n",
    "    lin_M= 10**M\n",
    "    x= lin_M/lin_M_c\n",
    "    \n",
    "    \n",
    "    ln_pobs=lnobs_like(M, np.log10(mlim))\n",
    "    \n",
    "    norm= np.zeros(len(M))\n",
    "    err=np.zeros(len(M))\n",
    "    for i in range(len(M)):\n",
    "        \n",
    "        norm[i], err[i] = quad(Shecter_Z, mlim[i], 1.e7, args=(np.log10(mlim[i]), alpha, lin_M_c))\n",
    "    \n",
    "    \n",
    "    lnlike = np.sum((-x) + alpha*np.log(x) + ln_pobs - np.log(norm))    \n",
    "    return lnlike\n",
    "    \n",
    "def lnprior(theta):\n",
    "    alpha, M_c = theta\n",
    "    if -3 <= alpha <= -1 and 3 <= M_c <= 8:\n",
    "        return 0.0\n",
    "    return -np.inf\n",
    "\n",
    "def lnprob(theta, M, mlim):\n",
    "    lp = lnprior(theta)\n",
    "    if not np.isfinite(lp):\n",
    "        return -np.inf\n",
    "    return lp + lnlike(theta, M, mlim)"
   ]
  },
  {
   "cell_type": "code",
   "execution_count": 10,
   "metadata": {},
   "outputs": [
    {
     "data": {
      "text/plain": [
       "array([-1.91087179,  4.17491414])"
      ]
     },
     "execution_count": 10,
     "metadata": {},
     "output_type": "execute_result"
    }
   ],
   "source": [
    "#Running the Maximum liklihood Fit\n",
    "\n",
    "nll = lambda *args: -lnprob(*args)\n",
    "starting_point=np.array([-2., 4.25])\n",
    "\n",
    "fd_result=opt.minimize(nll, x0=starting_point, args=(using_dm, using_mlims))\n",
    "fd_result['x']"
   ]
  }
 ],
 "metadata": {
  "kernelspec": {
   "display_name": "Python 3",
   "language": "python",
   "name": "python3"
  },
  "language_info": {
   "codemirror_mode": {
    "name": "ipython",
    "version": 3
   },
   "file_extension": ".py",
   "mimetype": "text/x-python",
   "name": "python",
   "nbconvert_exporter": "python",
   "pygments_lexer": "ipython3",
   "version": "3.7.6"
  }
 },
 "nbformat": 4,
 "nbformat_minor": 4
}
