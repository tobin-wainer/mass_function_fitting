{
 "cells": [
  {
   "cell_type": "code",
   "execution_count": null,
   "metadata": {},
   "outputs": [],
   "source": [
    "import numpy as np\n",
    "from astropy.table import Table, join, MaskedColumn, vstack\n",
    "import matplotlib.pyplot as plt\n",
    "import matplotlib.colors as colors\n",
    "import scipy\n",
    "from astropy.time import Time\n",
    "import pandas as pd\n",
    "import re\n",
    "import seaborn as sns\n",
    "import datetime\n",
    "from datetime import datetime\n",
    "from datetime import timedelta\n",
    "from math import e\n",
    "from math import pi\n",
    "from astropy.table import Column\n",
    "from math import sqrt\n",
    "import numpy as np\n",
    "import emcee\n",
    "import matplotlib.pyplot as plt\n",
    "from astropy.io import fits\n",
    "from astropy.table import Table\n",
    "import math\n",
    "import corner\n",
    "from numpy import exp\n",
    "from scipy import integrate\n",
    "from scipy.integrate import quad\n",
    "import pdb"
   ]
  },
  {
   "cell_type": "code",
   "execution_count": null,
   "metadata": {},
   "outputs": [],
   "source": [
   "#Trying to generate randomn samples that fallow a power law distribution",
   "x_min = 3",
   "fake_alpha = -2",
   "r = np.random.randn(len(APD_ALM3))",
   "x_smp = x_min * (1 - r) ** (-1 / (fake_alpha - 1))",
   "/n",
   "fake_M_l=[]",
   "for i in range(len(APD_ALM3)):"
   "    if x_smp[i] <5:",
   "        fake_M_l.append(x_smp[i])",
   "fake_M=np.array(fake_M_l)"
  ]
 },  
  {
   "cell_type": "code",
   "execution_count": null,
   "metadata": {},
   "outputs": [],
   "source": [
    "AP_data_table=Table.read(\"APData_csv.csv\")\n",
    "print(\"AP_data_table:\", AP_data_table.colnames)\n",
    "\n",
    "M=np.array(AP_data_table['logMass-Best'])\n",
    "\n",
    "def lnlike(theta, M):\n",
    "    alpha, M_c = theta\n",
    "    lin_M= 10**M\n",
    "    lin_M_c= 10**M_c\n",
    "    return (np.sum(-lin_M/lin_M_c + alpha*np.log(lin_M)))\n",
    "\n",
    "def lnprior(theta):\n",
    "    alpha, M_c = theta\n",
    "    if -3 <= alpha <= 1 and 3 <= M_c <= 8:\n",
    "#        return (1/M_c)\n",
    "        return 0.0\n",
    "    return -np.inf\n",
    "\n",
    "def lnprob(theta, M):\n",
    "    lp = lnprior(theta)\n",
    "    if not np.isfinite(lp):\n",
    "        return -np.inf\n",
    "    return lp + lnlike(theta, M)\n",
    "\n",
    "starting_point=np.array([-1.99, 3.93])\n",
    "\n",
    "ndim, nwalkers = 2, 500\n",
    "pos = starting_point + 1e-2*np.random.randn(nwalkers, ndim)\n",
    "\n",
    "sampler = emcee.EnsembleSampler(nwalkers, ndim, lnprob, args=([fake_M]))\n",
    "sampler.run_mcmc(pos, 600)\n",
    "\n",
    "#plot chain\n",
    "plt.plot(np.transpose(sampler.chain[:,:,0]))\n",
    "plt.show()\n",
    "sampler.chain\n",
    "samples = sampler.chain[:, 100:, :].reshape((-1, ndim))\n",
    "fig = corner.corner(samples, labels=[\"Alpha\", \"Log(M_c)\"], label_kwargs={\"fontsize\": 18},\n",
    "                                     quantiles=[0.16, 0.5, 0.84], show_titles=True, title_kwargs={\"fontsize\": 18})\n",
    "\n",
    "fig.show()"
   ]
  }
 ],
 "metadata": {
  "kernelspec": {
   "display_name": "Python 3",
   "language": "python",
   "name": "python3"
  },
  "language_info": {
   "codemirror_mode": {
    "name": "ipython",
    "version": 3
   },
   "file_extension": ".py",
   "mimetype": "text/x-python",
   "name": "python",
   "nbconvert_exporter": "python",
   "pygments_lexer": "ipython3",
   "version": "3.7.6"
  }
 },
 "nbformat": 4,
 "nbformat_minor": 4
}
